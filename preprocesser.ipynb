{
 "cells": [
  {
   "cell_type": "code",
   "execution_count": 4,
   "metadata": {},
   "outputs": [],
   "source": [
    "import cv2\n",
    "import time\n",
    "import random\n",
    "import math\n",
    "import os\n",
    "import tqdm"
   ]
  },
  {
   "cell_type": "code",
   "execution_count": 12,
   "metadata": {},
   "outputs": [],
   "source": [
    "VIDEO = \"data/West Virginia(720P_HD).mp4\""
   ]
  },
  {
   "cell_type": "code",
   "execution_count": 13,
   "metadata": {},
   "outputs": [
    {
     "name": "stdout",
     "output_type": "stream",
     "text": [
      "done\n"
     ]
    }
   ],
   "source": [
    "count = 0\n",
    "cap = cv2.VideoCapture(VIDEO)\n",
    "framerate = cap.get(5)\n",
    "x = 1\n",
    "while(cap.isOpened()):\n",
    "    frameId = cap.get(1)\n",
    "    ret, frame = cap.read()\n",
    "    if(ret != True):\n",
    "        break\n",
    "    #if(frameId % math.floor(framerate) == 0):\n",
    "    filename = \"%d.jpg\" % count;count +=1\n",
    "    cv2.imwrite(\"west_virginia_frames/\"+filename,frame)\n",
    "fps = cap.get(cv2.CAP_PROP_FPS)\n",
    "print (\"FPS: {0}\".format(fps))\n",
    "cap.release()\n",
    "print(\"Number of frames\",len(os.listdir(FRAMES_DIR)))"
   ]
  },
  {
   "cell_type": "code",
   "execution_count": 5,
   "metadata": {},
   "outputs": [
    {
     "name": "stderr",
     "output_type": "stream",
     "text": [
      "\r",
      "  0%|                                                                                          | 0/780 [00:00<?, ?it/s]"
     ]
    },
    {
     "name": "stdout",
     "output_type": "stream",
     "text": [
      "vision/frames/HEMA/frames/0.jpg\n",
      "vision/frames/HEMA/frames/1.jpg\n",
      "vision/frames/HEMA/frames/2.jpg\n",
      "vision/frames/HEMA/frames/3.jpg\n",
      "vision/frames/HEMA/frames/4.jpg\n",
      "vision/frames/HEMA/frames/5.jpg\n"
     ]
    },
    {
     "name": "stderr",
     "output_type": "stream",
     "text": [
      "\r",
      "  1%|▋                                                                                 | 6/780 [00:00<00:14, 52.75it/s]"
     ]
    },
    {
     "name": "stdout",
     "output_type": "stream",
     "text": [
      "vision/frames/HEMA/frames/6.jpg\n",
      "vision/frames/HEMA/frames/7.jpg\n",
      "vision/frames/HEMA/frames/8.jpg\n",
      "vision/frames/HEMA/frames/9.jpg\n",
      "vision/frames/HEMA/frames/10.jpg\n",
      "vision/frames/HEMA/frames/11.jpg\n"
     ]
    },
    {
     "name": "stderr",
     "output_type": "stream",
     "text": [
      "\r",
      "  2%|█▏                                                                               | 12/780 [00:00<00:14, 51.93it/s]"
     ]
    },
    {
     "name": "stdout",
     "output_type": "stream",
     "text": [
      "vision/frames/HEMA/frames/12.jpg\n",
      "vision/frames/HEMA/frames/13.jpg\n",
      "vision/frames/HEMA/frames/14.jpg\n",
      "vision/frames/HEMA/frames/15.jpg\n",
      "vision/frames/HEMA/frames/16.jpg\n"
     ]
    },
    {
     "name": "stderr",
     "output_type": "stream",
     "text": [
      "\r",
      "  2%|█▊                                                                               | 17/780 [00:00<00:15, 48.19it/s]"
     ]
    },
    {
     "name": "stdout",
     "output_type": "stream",
     "text": [
      "vision/frames/HEMA/frames/17.jpg\n",
      "vision/frames/HEMA/frames/18.jpg\n",
      "vision/frames/HEMA/frames/19.jpg\n",
      "vision/frames/HEMA/frames/20.jpg\n",
      "vision/frames/HEMA/frames/21.jpg\n"
     ]
    },
    {
     "name": "stderr",
     "output_type": "stream",
     "text": [
      "\r",
      "  3%|██▎                                                                              | 22/780 [00:00<00:16, 45.82it/s]"
     ]
    },
    {
     "name": "stdout",
     "output_type": "stream",
     "text": [
      "vision/frames/HEMA/frames/22.jpg\n",
      "vision/frames/HEMA/frames/23.jpg\n",
      "vision/frames/HEMA/frames/24.jpg\n",
      "vision/frames/HEMA/frames/25.jpg\n"
     ]
    },
    {
     "name": "stderr",
     "output_type": "stream",
     "text": [
      "\r",
      "  3%|██▋                                                                              | 26/780 [00:00<00:17, 42.54it/s]"
     ]
    },
    {
     "name": "stdout",
     "output_type": "stream",
     "text": [
      "vision/frames/HEMA/frames/26.jpg\n",
      "vision/frames/HEMA/frames/27.jpg\n",
      "vision/frames/HEMA/frames/28.jpg\n",
      "vision/frames/HEMA/frames/29.jpg\n"
     ]
    },
    {
     "name": "stderr",
     "output_type": "stream",
     "text": [
      "\r",
      "  4%|███                                                                              | 30/780 [00:00<00:18, 41.14it/s]"
     ]
    },
    {
     "name": "stdout",
     "output_type": "stream",
     "text": [
      "vision/frames/HEMA/frames/30.jpg\n",
      "vision/frames/HEMA/frames/31.jpg\n",
      "vision/frames/HEMA/frames/32.jpg\n",
      "vision/frames/HEMA/frames/33.jpg\n",
      "vision/frames/HEMA/frames/34.jpg\n"
     ]
    },
    {
     "name": "stderr",
     "output_type": "stream",
     "text": [
      "\r",
      "  4%|███▋                                                                             | 35/780 [00:00<00:17, 42.59it/s]"
     ]
    },
    {
     "name": "stdout",
     "output_type": "stream",
     "text": [
      "vision/frames/HEMA/frames/35.jpg\n",
      "vision/frames/HEMA/frames/36.jpg\n",
      "vision/frames/HEMA/frames/37.jpg\n",
      "vision/frames/HEMA/frames/38.jpg\n",
      "vision/frames/HEMA/frames/39.jpg\n"
     ]
    },
    {
     "name": "stderr",
     "output_type": "stream",
     "text": [
      "\r",
      "  5%|████▏                                                                            | 40/780 [00:00<00:17, 42.76it/s]"
     ]
    },
    {
     "name": "stdout",
     "output_type": "stream",
     "text": [
      "vision/frames/HEMA/frames/40.jpg\n",
      "vision/frames/HEMA/frames/41.jpg\n",
      "vision/frames/HEMA/frames/42.jpg\n",
      "vision/frames/HEMA/frames/43.jpg\n",
      "vision/frames/HEMA/frames/44.jpg\n"
     ]
    },
    {
     "name": "stderr",
     "output_type": "stream",
     "text": [
      "\r",
      "  6%|████▋                                                                            | 45/780 [00:01<00:17, 41.00it/s]"
     ]
    },
    {
     "name": "stdout",
     "output_type": "stream",
     "text": [
      "vision/frames/HEMA/frames/45.jpg\n",
      "vision/frames/HEMA/frames/46.jpg\n",
      "vision/frames/HEMA/frames/47.jpg\n",
      "vision/frames/HEMA/frames/48.jpg\n"
     ]
    },
    {
     "name": "stderr",
     "output_type": "stream",
     "text": [
      "\r",
      "  6%|█████                                                                            | 49/780 [00:01<00:18, 40.00it/s]"
     ]
    },
    {
     "name": "stdout",
     "output_type": "stream",
     "text": [
      "vision/frames/HEMA/frames/49.jpg\n",
      "vision/frames/HEMA/frames/50.jpg\n",
      "vision/frames/HEMA/frames/51.jpg\n",
      "vision/frames/HEMA/frames/52.jpg\n",
      "vision/frames/HEMA/frames/53.jpg\n"
     ]
    },
    {
     "name": "stderr",
     "output_type": "stream",
     "text": [
      "\r",
      "  7%|█████▌                                                                           | 54/780 [00:01<00:17, 41.52it/s]"
     ]
    },
    {
     "name": "stdout",
     "output_type": "stream",
     "text": [
      "vision/frames/HEMA/frames/54.jpg\n",
      "vision/frames/HEMA/frames/55.jpg\n",
      "vision/frames/HEMA/frames/56.jpg\n",
      "vision/frames/HEMA/frames/57.jpg\n",
      "vision/frames/HEMA/frames/58.jpg\n"
     ]
    },
    {
     "name": "stderr",
     "output_type": "stream",
     "text": [
      "\r",
      "  8%|██████▏                                                                          | 59/780 [00:01<00:17, 42.02it/s]"
     ]
    },
    {
     "name": "stdout",
     "output_type": "stream",
     "text": [
      "vision/frames/HEMA/frames/59.jpg\n",
      "vision/frames/HEMA/frames/60.jpg\n",
      "vision/frames/HEMA/frames/61.jpg\n",
      "vision/frames/HEMA/frames/62.jpg\n",
      "vision/frames/HEMA/frames/63.jpg\n",
      "vision/frames/HEMA/frames/64.jpg\n"
     ]
    },
    {
     "name": "stderr",
     "output_type": "stream",
     "text": [
      "\r",
      "  8%|██████▊                                                                          | 65/780 [00:01<00:16, 44.36it/s]"
     ]
    },
    {
     "name": "stdout",
     "output_type": "stream",
     "text": [
      "vision/frames/HEMA/frames/65.jpg\n",
      "vision/frames/HEMA/frames/66.jpg\n",
      "vision/frames/HEMA/frames/67.jpg\n",
      "vision/frames/HEMA/frames/68.jpg\n",
      "vision/frames/HEMA/frames/69.jpg\n",
      "vision/frames/HEMA/frames/70.jpg\n"
     ]
    },
    {
     "name": "stderr",
     "output_type": "stream",
     "text": [
      "\r",
      "  9%|███████▎                                                                         | 71/780 [00:01<00:15, 46.91it/s]"
     ]
    },
    {
     "name": "stdout",
     "output_type": "stream",
     "text": [
      "vision/frames/HEMA/frames/71.jpg\n",
      "vision/frames/HEMA/frames/72.jpg\n",
      "vision/frames/HEMA/frames/73.jpg\n",
      "vision/frames/HEMA/frames/74.jpg\n",
      "vision/frames/HEMA/frames/75.jpg\n",
      "vision/frames/HEMA/frames/76.jpg\n",
      "vision/frames/HEMA/frames/77.jpg\n",
      "vision/frames/HEMA/frames/78.jpg\n"
     ]
    },
    {
     "name": "stderr",
     "output_type": "stream",
     "text": [
      "\r",
      " 10%|████████▏                                                                        | 79/780 [00:01<00:13, 52.79it/s]"
     ]
    },
    {
     "name": "stdout",
     "output_type": "stream",
     "text": [
      "vision/frames/HEMA/frames/79.jpg\n",
      "vision/frames/HEMA/frames/80.jpg\n",
      "vision/frames/HEMA/frames/81.jpg\n",
      "vision/frames/HEMA/frames/82.jpg\n",
      "vision/frames/HEMA/frames/83.jpg\n",
      "vision/frames/HEMA/frames/84.jpg\n",
      "vision/frames/HEMA/frames/85.jpg\n",
      "vision/frames/HEMA/frames/86.jpg\n",
      "vision/frames/HEMA/frames/87.jpg\n"
     ]
    },
    {
     "name": "stderr",
     "output_type": "stream",
     "text": [
      "\r",
      " 11%|█████████▏                                                                       | 88/780 [00:01<00:11, 58.93it/s]"
     ]
    },
    {
     "name": "stdout",
     "output_type": "stream",
     "text": [
      "vision/frames/HEMA/frames/88.jpg\n",
      "vision/frames/HEMA/frames/89.jpg\n",
      "vision/frames/HEMA/frames/90.jpg\n",
      "vision/frames/HEMA/frames/91.jpg\n",
      "vision/frames/HEMA/frames/92.jpg\n",
      "vision/frames/HEMA/frames/93.jpg\n",
      "vision/frames/HEMA/frames/94.jpg\n"
     ]
    },
    {
     "name": "stderr",
     "output_type": "stream",
     "text": [
      "\r",
      " 12%|█████████▊                                                                       | 95/780 [00:01<00:11, 61.00it/s]"
     ]
    },
    {
     "name": "stdout",
     "output_type": "stream",
     "text": [
      "vision/frames/HEMA/frames/95.jpg\n",
      "vision/frames/HEMA/frames/96.jpg\n",
      "vision/frames/HEMA/frames/97.jpg\n",
      "vision/frames/HEMA/frames/98.jpg\n",
      "vision/frames/HEMA/frames/99.jpg\n",
      "vision/frames/HEMA/frames/100.jpg\n",
      "vision/frames/HEMA/frames/101.jpg\n"
     ]
    },
    {
     "name": "stderr",
     "output_type": "stream",
     "text": [
      "\r",
      " 13%|██████████▍                                                                     | 102/780 [00:02<00:10, 62.95it/s]"
     ]
    },
    {
     "name": "stdout",
     "output_type": "stream",
     "text": [
      "vision/frames/HEMA/frames/102.jpg\n",
      "vision/frames/HEMA/frames/103.jpg\n",
      "vision/frames/HEMA/frames/104.jpg\n",
      "vision/frames/HEMA/frames/105.jpg\n",
      "vision/frames/HEMA/frames/106.jpg\n",
      "vision/frames/HEMA/frames/107.jpg\n",
      "vision/frames/HEMA/frames/108.jpg\n"
     ]
    },
    {
     "name": "stderr",
     "output_type": "stream",
     "text": [
      "\r",
      " 14%|███████████▏                                                                    | 109/780 [00:02<00:10, 64.05it/s]"
     ]
    },
    {
     "name": "stdout",
     "output_type": "stream",
     "text": [
      "vision/frames/HEMA/frames/109.jpg\n",
      "vision/frames/HEMA/frames/110.jpg\n",
      "vision/frames/HEMA/frames/111.jpg\n",
      "vision/frames/HEMA/frames/112.jpg\n",
      "vision/frames/HEMA/frames/113.jpg\n",
      "vision/frames/HEMA/frames/114.jpg\n",
      "vision/frames/HEMA/frames/115.jpg\n"
     ]
    },
    {
     "name": "stderr",
     "output_type": "stream",
     "text": [
      "\r",
      " 15%|███████████▉                                                                    | 116/780 [00:02<00:10, 64.93it/s]"
     ]
    },
    {
     "name": "stdout",
     "output_type": "stream",
     "text": [
      "vision/frames/HEMA/frames/116.jpg\n",
      "vision/frames/HEMA/frames/117.jpg\n",
      "vision/frames/HEMA/frames/118.jpg\n",
      "vision/frames/HEMA/frames/119.jpg\n",
      "vision/frames/HEMA/frames/120.jpg\n",
      "vision/frames/HEMA/frames/121.jpg\n",
      "vision/frames/HEMA/frames/122.jpg\n",
      "vision/frames/HEMA/frames/123.jpg\n"
     ]
    },
    {
     "name": "stderr",
     "output_type": "stream",
     "text": [
      "\r",
      " 16%|████████████▋                                                                   | 124/780 [00:02<00:09, 68.71it/s]"
     ]
    },
    {
     "name": "stdout",
     "output_type": "stream",
     "text": [
      "vision/frames/HEMA/frames/124.jpg\n",
      "vision/frames/HEMA/frames/125.jpg\n",
      "vision/frames/HEMA/frames/126.jpg\n",
      "vision/frames/HEMA/frames/127.jpg\n",
      "vision/frames/HEMA/frames/128.jpg\n",
      "vision/frames/HEMA/frames/129.jpg\n",
      "vision/frames/HEMA/frames/130.jpg\n",
      "vision/frames/HEMA/frames/131.jpg\n"
     ]
    },
    {
     "name": "stderr",
     "output_type": "stream",
     "text": [
      "\r",
      " 17%|█████████████▌                                                                  | 132/780 [00:02<00:09, 71.55it/s]"
     ]
    },
    {
     "name": "stdout",
     "output_type": "stream",
     "text": [
      "vision/frames/HEMA/frames/132.jpg\n",
      "vision/frames/HEMA/frames/133.jpg\n",
      "vision/frames/HEMA/frames/134.jpg\n",
      "vision/frames/HEMA/frames/135.jpg\n",
      "vision/frames/HEMA/frames/136.jpg\n",
      "vision/frames/HEMA/frames/137.jpg\n",
      "vision/frames/HEMA/frames/138.jpg\n",
      "vision/frames/HEMA/frames/139.jpg\n"
     ]
    },
    {
     "name": "stderr",
     "output_type": "stream",
     "text": [
      "\r",
      " 18%|██████████████▎                                                                 | 140/780 [00:02<00:08, 73.54it/s]"
     ]
    },
    {
     "name": "stdout",
     "output_type": "stream",
     "text": [
      "vision/frames/HEMA/frames/140.jpg\n",
      "vision/frames/HEMA/frames/141.jpg\n",
      "vision/frames/HEMA/frames/142.jpg\n",
      "vision/frames/HEMA/frames/143.jpg\n",
      "vision/frames/HEMA/frames/144.jpg\n",
      "vision/frames/HEMA/frames/145.jpg\n",
      "vision/frames/HEMA/frames/146.jpg\n",
      "vision/frames/HEMA/frames/147.jpg\n"
     ]
    },
    {
     "name": "stderr",
     "output_type": "stream",
     "text": [
      "\r",
      " 19%|███████████████▏                                                                | 148/780 [00:02<00:08, 75.36it/s]"
     ]
    },
    {
     "name": "stdout",
     "output_type": "stream",
     "text": [
      "vision/frames/HEMA/frames/148.jpg\n",
      "vision/frames/HEMA/frames/149.jpg\n",
      "vision/frames/HEMA/frames/150.jpg\n",
      "vision/frames/HEMA/frames/151.jpg\n",
      "vision/frames/HEMA/frames/152.jpg\n",
      "vision/frames/HEMA/frames/153.jpg\n",
      "vision/frames/HEMA/frames/154.jpg\n",
      "vision/frames/HEMA/frames/155.jpg\n"
     ]
    },
    {
     "name": "stderr",
     "output_type": "stream",
     "text": [
      "\r",
      " 20%|████████████████                                                                | 156/780 [00:02<00:08, 76.46it/s]"
     ]
    },
    {
     "name": "stdout",
     "output_type": "stream",
     "text": [
      "vision/frames/HEMA/frames/156.jpg\n",
      "vision/frames/HEMA/frames/157.jpg\n",
      "vision/frames/HEMA/frames/158.jpg\n",
      "vision/frames/HEMA/frames/159.jpg\n",
      "vision/frames/HEMA/frames/160.jpg\n",
      "vision/frames/HEMA/frames/161.jpg\n",
      "vision/frames/HEMA/frames/162.jpg\n",
      "vision/frames/HEMA/frames/163.jpg\n"
     ]
    },
    {
     "name": "stderr",
     "output_type": "stream",
     "text": [
      "\r",
      " 21%|████████████████▊                                                               | 164/780 [00:02<00:08, 75.07it/s]"
     ]
    },
    {
     "name": "stdout",
     "output_type": "stream",
     "text": [
      "vision/frames/HEMA/frames/164.jpg\n",
      "vision/frames/HEMA/frames/165.jpg\n",
      "vision/frames/HEMA/frames/166.jpg\n",
      "vision/frames/HEMA/frames/167.jpg\n",
      "vision/frames/HEMA/frames/168.jpg\n",
      "vision/frames/HEMA/frames/169.jpg\n",
      "vision/frames/HEMA/frames/170.jpg\n",
      "vision/frames/HEMA/frames/171.jpg\n",
      "vision/frames/HEMA/frames/172.jpg\n"
     ]
    },
    {
     "name": "stderr",
     "output_type": "stream",
     "text": [
      "\r",
      " 22%|█████████████████▋                                                              | 173/780 [00:02<00:07, 76.38it/s]"
     ]
    },
    {
     "name": "stdout",
     "output_type": "stream",
     "text": [
      "vision/frames/HEMA/frames/173.jpg\n",
      "vision/frames/HEMA/frames/174.jpg\n",
      "vision/frames/HEMA/frames/175.jpg\n",
      "vision/frames/HEMA/frames/176.jpg\n",
      "vision/frames/HEMA/frames/177.jpg\n",
      "vision/frames/HEMA/frames/178.jpg\n",
      "vision/frames/HEMA/frames/179.jpg\n",
      "vision/frames/HEMA/frames/180.jpg\n"
     ]
    },
    {
     "name": "stderr",
     "output_type": "stream",
     "text": [
      "\r",
      " 23%|██████████████████▌                                                             | 181/780 [00:03<00:07, 76.61it/s]"
     ]
    },
    {
     "name": "stdout",
     "output_type": "stream",
     "text": [
      "vision/frames/HEMA/frames/181.jpg\n",
      "vision/frames/HEMA/frames/182.jpg\n",
      "vision/frames/HEMA/frames/183.jpg\n",
      "vision/frames/HEMA/frames/184.jpg\n",
      "vision/frames/HEMA/frames/185.jpg\n",
      "vision/frames/HEMA/frames/186.jpg\n",
      "vision/frames/HEMA/frames/187.jpg\n",
      "vision/frames/HEMA/frames/188.jpg\n"
     ]
    },
    {
     "name": "stderr",
     "output_type": "stream",
     "text": [
      "\r",
      " 24%|███████████████████▍                                                            | 189/780 [00:03<00:07, 76.58it/s]"
     ]
    },
    {
     "name": "stdout",
     "output_type": "stream",
     "text": [
      "vision/frames/HEMA/frames/189.jpg\n",
      "vision/frames/HEMA/frames/190.jpg\n",
      "vision/frames/HEMA/frames/191.jpg\n",
      "vision/frames/HEMA/frames/192.jpg\n",
      "vision/frames/HEMA/frames/193.jpg\n",
      "vision/frames/HEMA/frames/194.jpg\n",
      "vision/frames/HEMA/frames/195.jpg\n",
      "vision/frames/HEMA/frames/196.jpg\n"
     ]
    },
    {
     "name": "stderr",
     "output_type": "stream",
     "text": [
      "\r",
      " 25%|████████████████████▏                                                           | 197/780 [00:03<00:07, 77.07it/s]"
     ]
    },
    {
     "name": "stdout",
     "output_type": "stream",
     "text": [
      "vision/frames/HEMA/frames/197.jpg\n",
      "vision/frames/HEMA/frames/198.jpg\n",
      "vision/frames/HEMA/frames/199.jpg\n",
      "vision/frames/HEMA/frames/200.jpg\n",
      "vision/frames/HEMA/frames/201.jpg\n",
      "vision/frames/HEMA/frames/202.jpg\n",
      "vision/frames/HEMA/frames/203.jpg\n",
      "vision/frames/HEMA/frames/204.jpg\n"
     ]
    },
    {
     "name": "stderr",
     "output_type": "stream",
     "text": [
      "\r",
      " 26%|█████████████████████                                                           | 205/780 [00:03<00:07, 77.68it/s]"
     ]
    },
    {
     "name": "stdout",
     "output_type": "stream",
     "text": [
      "vision/frames/HEMA/frames/205.jpg\n",
      "vision/frames/HEMA/frames/206.jpg\n",
      "vision/frames/HEMA/frames/207.jpg\n",
      "vision/frames/HEMA/frames/208.jpg\n",
      "vision/frames/HEMA/frames/209.jpg\n",
      "vision/frames/HEMA/frames/210.jpg\n",
      "vision/frames/HEMA/frames/211.jpg\n",
      "vision/frames/HEMA/frames/212.jpg\n"
     ]
    },
    {
     "name": "stderr",
     "output_type": "stream",
     "text": [
      "\r",
      " 27%|█████████████████████▊                                                          | 213/780 [00:03<00:07, 78.33it/s]"
     ]
    },
    {
     "name": "stdout",
     "output_type": "stream",
     "text": [
      "vision/frames/HEMA/frames/213.jpg\n",
      "vision/frames/HEMA/frames/214.jpg\n",
      "vision/frames/HEMA/frames/215.jpg\n",
      "vision/frames/HEMA/frames/216.jpg\n",
      "vision/frames/HEMA/frames/217.jpg\n",
      "vision/frames/HEMA/frames/218.jpg\n",
      "vision/frames/HEMA/frames/219.jpg\n",
      "vision/frames/HEMA/frames/220.jpg\n",
      "vision/frames/HEMA/frames/221.jpg\n"
     ]
    },
    {
     "name": "stderr",
     "output_type": "stream",
     "text": [
      "\r",
      " 28%|██████████████████████▊                                                         | 222/780 [00:03<00:07, 79.11it/s]"
     ]
    },
    {
     "name": "stdout",
     "output_type": "stream",
     "text": [
      "vision/frames/HEMA/frames/222.jpg\n",
      "vision/frames/HEMA/frames/223.jpg\n",
      "vision/frames/HEMA/frames/224.jpg\n",
      "vision/frames/HEMA/frames/225.jpg\n",
      "vision/frames/HEMA/frames/226.jpg\n",
      "vision/frames/HEMA/frames/227.jpg\n",
      "vision/frames/HEMA/frames/228.jpg\n",
      "vision/frames/HEMA/frames/229.jpg\n"
     ]
    },
    {
     "name": "stderr",
     "output_type": "stream",
     "text": [
      "\r",
      " 29%|███████████████████████▌                                                        | 230/780 [00:03<00:06, 79.37it/s]"
     ]
    },
    {
     "name": "stdout",
     "output_type": "stream",
     "text": [
      "vision/frames/HEMA/frames/230.jpg\n",
      "vision/frames/HEMA/frames/231.jpg\n",
      "vision/frames/HEMA/frames/232.jpg\n",
      "vision/frames/HEMA/frames/233.jpg\n",
      "vision/frames/HEMA/frames/234.jpg\n",
      "vision/frames/HEMA/frames/235.jpg\n",
      "vision/frames/HEMA/frames/236.jpg\n",
      "vision/frames/HEMA/frames/237.jpg\n"
     ]
    },
    {
     "name": "stderr",
     "output_type": "stream",
     "text": [
      "\r",
      " 31%|████████████████████████▍                                                       | 238/780 [00:03<00:06, 78.86it/s]"
     ]
    },
    {
     "name": "stdout",
     "output_type": "stream",
     "text": [
      "vision/frames/HEMA/frames/238.jpg\n",
      "vision/frames/HEMA/frames/239.jpg\n",
      "vision/frames/HEMA/frames/240.jpg\n",
      "vision/frames/HEMA/frames/241.jpg\n",
      "vision/frames/HEMA/frames/242.jpg\n",
      "vision/frames/HEMA/frames/243.jpg\n",
      "vision/frames/HEMA/frames/244.jpg\n",
      "vision/frames/HEMA/frames/245.jpg\n"
     ]
    },
    {
     "name": "stderr",
     "output_type": "stream",
     "text": [
      "\r",
      " 32%|█████████████████████████▏                                                      | 246/780 [00:03<00:06, 78.87it/s]"
     ]
    },
    {
     "name": "stdout",
     "output_type": "stream",
     "text": [
      "vision/frames/HEMA/frames/246.jpg\n",
      "vision/frames/HEMA/frames/247.jpg\n",
      "vision/frames/HEMA/frames/248.jpg\n",
      "vision/frames/HEMA/frames/249.jpg\n",
      "vision/frames/HEMA/frames/250.jpg\n",
      "vision/frames/HEMA/frames/251.jpg\n",
      "vision/frames/HEMA/frames/252.jpg\n",
      "vision/frames/HEMA/frames/253.jpg\n"
     ]
    },
    {
     "name": "stderr",
     "output_type": "stream",
     "text": [
      "\r",
      " 33%|██████████████████████████                                                      | 254/780 [00:04<00:06, 75.88it/s]"
     ]
    },
    {
     "name": "stdout",
     "output_type": "stream",
     "text": [
      "vision/frames/HEMA/frames/254.jpg\n",
      "vision/frames/HEMA/frames/255.jpg\n",
      "vision/frames/HEMA/frames/256.jpg\n",
      "vision/frames/HEMA/frames/257.jpg\n",
      "vision/frames/HEMA/frames/258.jpg\n",
      "vision/frames/HEMA/frames/259.jpg\n",
      "vision/frames/HEMA/frames/260.jpg\n",
      "vision/frames/HEMA/frames/261.jpg\n"
     ]
    },
    {
     "name": "stderr",
     "output_type": "stream",
     "text": [
      "\r",
      " 34%|██████████████████████████▊                                                     | 262/780 [00:04<00:07, 72.74it/s]"
     ]
    },
    {
     "name": "stdout",
     "output_type": "stream",
     "text": [
      "vision/frames/HEMA/frames/262.jpg\n",
      "vision/frames/HEMA/frames/263.jpg\n",
      "vision/frames/HEMA/frames/264.jpg\n",
      "vision/frames/HEMA/frames/265.jpg\n",
      "vision/frames/HEMA/frames/266.jpg\n",
      "vision/frames/HEMA/frames/267.jpg\n",
      "vision/frames/HEMA/frames/268.jpg\n",
      "vision/frames/HEMA/frames/269.jpg\n"
     ]
    },
    {
     "name": "stderr",
     "output_type": "stream",
     "text": [
      "\r",
      " 35%|███████████████████████████▋                                                    | 270/780 [00:04<00:07, 71.34it/s]"
     ]
    },
    {
     "name": "stdout",
     "output_type": "stream",
     "text": [
      "vision/frames/HEMA/frames/270.jpg\n",
      "vision/frames/HEMA/frames/271.jpg\n",
      "vision/frames/HEMA/frames/272.jpg\n",
      "vision/frames/HEMA/frames/273.jpg\n",
      "vision/frames/HEMA/frames/274.jpg\n",
      "vision/frames/HEMA/frames/275.jpg\n",
      "vision/frames/HEMA/frames/276.jpg\n",
      "vision/frames/HEMA/frames/277.jpg\n",
      "vision/frames/HEMA/frames/278.jpg\n"
     ]
    },
    {
     "name": "stderr",
     "output_type": "stream",
     "text": [
      "\r",
      " 36%|████████████████████████████▌                                                   | 279/780 [00:04<00:06, 73.79it/s]"
     ]
    },
    {
     "name": "stdout",
     "output_type": "stream",
     "text": [
      "vision/frames/HEMA/frames/279.jpg\n",
      "vision/frames/HEMA/frames/280.jpg\n",
      "vision/frames/HEMA/frames/281.jpg\n",
      "vision/frames/HEMA/frames/282.jpg\n",
      "vision/frames/HEMA/frames/283.jpg\n",
      "vision/frames/HEMA/frames/284.jpg\n",
      "vision/frames/HEMA/frames/285.jpg\n",
      "vision/frames/HEMA/frames/286.jpg\n",
      "vision/frames/HEMA/frames/287.jpg\n"
     ]
    },
    {
     "name": "stderr",
     "output_type": "stream",
     "text": [
      "\r",
      " 37%|█████████████████████████████▌                                                  | 288/780 [00:04<00:06, 75.91it/s]"
     ]
    },
    {
     "name": "stdout",
     "output_type": "stream",
     "text": [
      "vision/frames/HEMA/frames/288.jpg\n",
      "vision/frames/HEMA/frames/289.jpg\n",
      "vision/frames/HEMA/frames/290.jpg\n",
      "vision/frames/HEMA/frames/291.jpg\n",
      "vision/frames/HEMA/frames/292.jpg\n",
      "vision/frames/HEMA/frames/293.jpg\n",
      "vision/frames/HEMA/frames/294.jpg\n",
      "vision/frames/HEMA/frames/295.jpg\n",
      "vision/frames/HEMA/frames/296.jpg\n"
     ]
    },
    {
     "name": "stderr",
     "output_type": "stream",
     "text": [
      "\r",
      " 38%|██████████████████████████████▍                                                 | 297/780 [00:04<00:06, 77.64it/s]"
     ]
    },
    {
     "name": "stdout",
     "output_type": "stream",
     "text": [
      "vision/frames/HEMA/frames/297.jpg\n",
      "vision/frames/HEMA/frames/298.jpg\n",
      "vision/frames/HEMA/frames/299.jpg\n",
      "vision/frames/HEMA/frames/300.jpg\n",
      "vision/frames/HEMA/frames/301.jpg\n",
      "vision/frames/HEMA/frames/302.jpg\n",
      "vision/frames/HEMA/frames/303.jpg\n",
      "vision/frames/HEMA/frames/304.jpg\n"
     ]
    },
    {
     "name": "stderr",
     "output_type": "stream",
     "text": [
      "\r",
      " 39%|███████████████████████████████▎                                                | 305/780 [00:04<00:06, 75.73it/s]"
     ]
    },
    {
     "name": "stdout",
     "output_type": "stream",
     "text": [
      "vision/frames/HEMA/frames/305.jpg\n",
      "vision/frames/HEMA/frames/306.jpg\n",
      "vision/frames/HEMA/frames/307.jpg\n",
      "vision/frames/HEMA/frames/308.jpg\n",
      "vision/frames/HEMA/frames/309.jpg\n",
      "vision/frames/HEMA/frames/310.jpg\n",
      "vision/frames/HEMA/frames/311.jpg\n",
      "vision/frames/HEMA/frames/312.jpg\n",
      "vision/frames/HEMA/frames/313.jpg\n"
     ]
    },
    {
     "name": "stderr",
     "output_type": "stream",
     "text": [
      "\r",
      " 40%|████████████████████████████████▏                                               | 314/780 [00:04<00:06, 77.37it/s]"
     ]
    },
    {
     "name": "stdout",
     "output_type": "stream",
     "text": [
      "vision/frames/HEMA/frames/314.jpg\n",
      "vision/frames/HEMA/frames/315.jpg\n",
      "vision/frames/HEMA/frames/316.jpg\n",
      "vision/frames/HEMA/frames/317.jpg\n",
      "vision/frames/HEMA/frames/318.jpg\n",
      "vision/frames/HEMA/frames/319.jpg\n",
      "vision/frames/HEMA/frames/320.jpg\n",
      "vision/frames/HEMA/frames/321.jpg\n",
      "vision/frames/HEMA/frames/322.jpg\n"
     ]
    },
    {
     "name": "stderr",
     "output_type": "stream",
     "text": [
      "\r",
      " 41%|█████████████████████████████████▏                                              | 323/780 [00:04<00:05, 78.62it/s]"
     ]
    },
    {
     "name": "stdout",
     "output_type": "stream",
     "text": [
      "vision/frames/HEMA/frames/323.jpg\n",
      "vision/frames/HEMA/frames/324.jpg\n",
      "vision/frames/HEMA/frames/325.jpg\n",
      "vision/frames/HEMA/frames/326.jpg\n",
      "vision/frames/HEMA/frames/327.jpg\n",
      "vision/frames/HEMA/frames/328.jpg\n",
      "vision/frames/HEMA/frames/329.jpg\n",
      "vision/frames/HEMA/frames/330.jpg\n",
      "vision/frames/HEMA/frames/331.jpg\n"
     ]
    },
    {
     "name": "stderr",
     "output_type": "stream",
     "text": [
      "\r",
      " 43%|██████████████████████████████████                                              | 332/780 [00:05<00:05, 79.18it/s]"
     ]
    },
    {
     "name": "stdout",
     "output_type": "stream",
     "text": [
      "vision/frames/HEMA/frames/332.jpg\n",
      "vision/frames/HEMA/frames/333.jpg\n",
      "vision/frames/HEMA/frames/334.jpg\n",
      "vision/frames/HEMA/frames/335.jpg\n",
      "vision/frames/HEMA/frames/336.jpg\n",
      "vision/frames/HEMA/frames/337.jpg\n",
      "vision/frames/HEMA/frames/338.jpg\n",
      "vision/frames/HEMA/frames/339.jpg\n",
      "vision/frames/HEMA/frames/340.jpg\n"
     ]
    },
    {
     "name": "stderr",
     "output_type": "stream",
     "text": [
      "\r",
      " 44%|██████████████████████████████████▉                                             | 341/780 [00:05<00:05, 80.24it/s]"
     ]
    },
    {
     "name": "stdout",
     "output_type": "stream",
     "text": [
      "vision/frames/HEMA/frames/341.jpg\n",
      "vision/frames/HEMA/frames/342.jpg\n",
      "vision/frames/HEMA/frames/343.jpg\n",
      "vision/frames/HEMA/frames/344.jpg\n",
      "vision/frames/HEMA/frames/345.jpg\n",
      "vision/frames/HEMA/frames/346.jpg\n",
      "vision/frames/HEMA/frames/347.jpg\n",
      "vision/frames/HEMA/frames/348.jpg\n",
      "vision/frames/HEMA/frames/349.jpg\n"
     ]
    },
    {
     "name": "stderr",
     "output_type": "stream",
     "text": [
      "\r",
      " 45%|███████████████████████████████████▉                                            | 350/780 [00:05<00:05, 80.76it/s]"
     ]
    },
    {
     "name": "stdout",
     "output_type": "stream",
     "text": [
      "vision/frames/HEMA/frames/350.jpg\n",
      "vision/frames/HEMA/frames/351.jpg\n",
      "vision/frames/HEMA/frames/352.jpg\n",
      "vision/frames/HEMA/frames/353.jpg\n",
      "vision/frames/HEMA/frames/354.jpg\n",
      "vision/frames/HEMA/frames/355.jpg\n",
      "vision/frames/HEMA/frames/356.jpg\n",
      "vision/frames/HEMA/frames/357.jpg\n",
      "vision/frames/HEMA/frames/358.jpg\n"
     ]
    },
    {
     "name": "stderr",
     "output_type": "stream",
     "text": [
      "\r",
      " 46%|████████████████████████████████████▊                                           | 359/780 [00:05<00:05, 78.60it/s]"
     ]
    },
    {
     "name": "stdout",
     "output_type": "stream",
     "text": [
      "vision/frames/HEMA/frames/359.jpg\n",
      "vision/frames/HEMA/frames/360.jpg\n",
      "vision/frames/HEMA/frames/361.jpg\n",
      "vision/frames/HEMA/frames/362.jpg\n",
      "vision/frames/HEMA/frames/363.jpg\n",
      "vision/frames/HEMA/frames/364.jpg\n",
      "vision/frames/HEMA/frames/365.jpg\n",
      "vision/frames/HEMA/frames/366.jpg\n",
      "vision/frames/HEMA/frames/367.jpg\n"
     ]
    },
    {
     "name": "stderr",
     "output_type": "stream",
     "text": [
      "\r",
      " 47%|█████████████████████████████████████▋                                          | 368/780 [00:05<00:05, 79.32it/s]"
     ]
    },
    {
     "name": "stdout",
     "output_type": "stream",
     "text": [
      "vision/frames/HEMA/frames/368.jpg\n",
      "vision/frames/HEMA/frames/369.jpg\n",
      "vision/frames/HEMA/frames/370.jpg\n",
      "vision/frames/HEMA/frames/371.jpg\n",
      "vision/frames/HEMA/frames/372.jpg\n",
      "vision/frames/HEMA/frames/373.jpg\n",
      "vision/frames/HEMA/frames/374.jpg\n",
      "vision/frames/HEMA/frames/375.jpg\n"
     ]
    },
    {
     "name": "stderr",
     "output_type": "stream",
     "text": [
      "\r",
      " 48%|██████████████████████████████████████▌                                         | 376/780 [00:05<00:05, 78.61it/s]"
     ]
    },
    {
     "name": "stdout",
     "output_type": "stream",
     "text": [
      "vision/frames/HEMA/frames/376.jpg\n",
      "vision/frames/HEMA/frames/377.jpg\n",
      "vision/frames/HEMA/frames/378.jpg\n",
      "vision/frames/HEMA/frames/379.jpg\n",
      "vision/frames/HEMA/frames/380.jpg\n",
      "vision/frames/HEMA/frames/381.jpg\n",
      "vision/frames/HEMA/frames/382.jpg\n",
      "vision/frames/HEMA/frames/383.jpg\n"
     ]
    },
    {
     "name": "stderr",
     "output_type": "stream",
     "text": [
      "\r",
      " 49%|███████████████████████████████████████▍                                        | 384/780 [00:05<00:05, 78.33it/s]"
     ]
    },
    {
     "name": "stdout",
     "output_type": "stream",
     "text": [
      "vision/frames/HEMA/frames/384.jpg\n",
      "vision/frames/HEMA/frames/385.jpg\n",
      "vision/frames/HEMA/frames/386.jpg\n",
      "vision/frames/HEMA/frames/387.jpg\n",
      "vision/frames/HEMA/frames/388.jpg\n",
      "vision/frames/HEMA/frames/389.jpg\n",
      "vision/frames/HEMA/frames/390.jpg\n",
      "vision/frames/HEMA/frames/391.jpg\n"
     ]
    },
    {
     "name": "stderr",
     "output_type": "stream",
     "text": [
      "\r",
      " 50%|████████████████████████████████████████▏                                       | 392/780 [00:05<00:04, 78.72it/s]"
     ]
    },
    {
     "name": "stdout",
     "output_type": "stream",
     "text": [
      "vision/frames/HEMA/frames/392.jpg\n",
      "vision/frames/HEMA/frames/393.jpg\n",
      "vision/frames/HEMA/frames/394.jpg\n",
      "vision/frames/HEMA/frames/395.jpg\n",
      "vision/frames/HEMA/frames/396.jpg\n",
      "vision/frames/HEMA/frames/397.jpg\n",
      "vision/frames/HEMA/frames/398.jpg\n",
      "vision/frames/HEMA/frames/399.jpg\n"
     ]
    },
    {
     "name": "stderr",
     "output_type": "stream",
     "text": [
      "\r",
      " 51%|█████████████████████████████████████████                                       | 400/780 [00:05<00:04, 78.03it/s]"
     ]
    },
    {
     "name": "stdout",
     "output_type": "stream",
     "text": [
      "vision/frames/HEMA/frames/400.jpg\n",
      "vision/frames/HEMA/frames/401.jpg\n",
      "vision/frames/HEMA/frames/402.jpg\n",
      "vision/frames/HEMA/frames/403.jpg\n",
      "vision/frames/HEMA/frames/404.jpg\n",
      "vision/frames/HEMA/frames/405.jpg\n",
      "vision/frames/HEMA/frames/406.jpg\n",
      "vision/frames/HEMA/frames/407.jpg\n"
     ]
    },
    {
     "name": "stderr",
     "output_type": "stream",
     "text": [
      "\r",
      " 52%|█████████████████████████████████████████▊                                      | 408/780 [00:06<00:05, 73.89it/s]"
     ]
    },
    {
     "name": "stdout",
     "output_type": "stream",
     "text": [
      "vision/frames/HEMA/frames/408.jpg\n",
      "vision/frames/HEMA/frames/409.jpg\n",
      "vision/frames/HEMA/frames/410.jpg\n",
      "vision/frames/HEMA/frames/411.jpg\n",
      "vision/frames/HEMA/frames/412.jpg\n",
      "vision/frames/HEMA/frames/413.jpg\n",
      "vision/frames/HEMA/frames/414.jpg\n",
      "vision/frames/HEMA/frames/415.jpg\n"
     ]
    },
    {
     "name": "stderr",
     "output_type": "stream",
     "text": [
      "\r",
      " 53%|██████████████████████████████████████████▋                                     | 416/780 [00:06<00:05, 71.44it/s]"
     ]
    },
    {
     "name": "stdout",
     "output_type": "stream",
     "text": [
      "vision/frames/HEMA/frames/416.jpg\n",
      "vision/frames/HEMA/frames/417.jpg\n",
      "vision/frames/HEMA/frames/418.jpg\n",
      "vision/frames/HEMA/frames/419.jpg\n",
      "vision/frames/HEMA/frames/420.jpg\n",
      "vision/frames/HEMA/frames/421.jpg\n",
      "vision/frames/HEMA/frames/422.jpg\n",
      "vision/frames/HEMA/frames/423.jpg\n"
     ]
    },
    {
     "name": "stderr",
     "output_type": "stream",
     "text": [
      "\r",
      " 54%|███████████████████████████████████████████▍                                    | 424/780 [00:06<00:05, 67.68it/s]"
     ]
    },
    {
     "name": "stdout",
     "output_type": "stream",
     "text": [
      "vision/frames/HEMA/frames/424.jpg\n",
      "vision/frames/HEMA/frames/425.jpg\n",
      "vision/frames/HEMA/frames/426.jpg\n",
      "vision/frames/HEMA/frames/427.jpg\n",
      "vision/frames/HEMA/frames/428.jpg\n",
      "vision/frames/HEMA/frames/429.jpg\n",
      "vision/frames/HEMA/frames/430.jpg\n",
      "vision/frames/HEMA/frames/431.jpg\n"
     ]
    },
    {
     "name": "stderr",
     "output_type": "stream",
     "text": [
      "\r",
      " 55%|████████████████████████████████████████████▎                                   | 432/780 [00:06<00:04, 70.01it/s]"
     ]
    },
    {
     "name": "stdout",
     "output_type": "stream",
     "text": [
      "vision/frames/HEMA/frames/432.jpg\n",
      "vision/frames/HEMA/frames/433.jpg\n",
      "vision/frames/HEMA/frames/434.jpg\n",
      "vision/frames/HEMA/frames/435.jpg\n",
      "vision/frames/HEMA/frames/436.jpg\n",
      "vision/frames/HEMA/frames/437.jpg\n",
      "vision/frames/HEMA/frames/438.jpg\n",
      "vision/frames/HEMA/frames/439.jpg\n",
      "vision/frames/HEMA/frames/440.jpg\n"
     ]
    },
    {
     "name": "stderr",
     "output_type": "stream",
     "text": [
      "\r",
      " 57%|█████████████████████████████████████████████▏                                  | 441/780 [00:06<00:04, 72.73it/s]"
     ]
    },
    {
     "name": "stdout",
     "output_type": "stream",
     "text": [
      "vision/frames/HEMA/frames/441.jpg\n",
      "vision/frames/HEMA/frames/442.jpg\n",
      "vision/frames/HEMA/frames/443.jpg\n",
      "vision/frames/HEMA/frames/444.jpg\n",
      "vision/frames/HEMA/frames/445.jpg\n",
      "vision/frames/HEMA/frames/446.jpg\n",
      "vision/frames/HEMA/frames/447.jpg\n",
      "vision/frames/HEMA/frames/448.jpg\n"
     ]
    },
    {
     "name": "stderr",
     "output_type": "stream",
     "text": [
      "\r",
      " 58%|██████████████████████████████████████████████                                  | 449/780 [00:06<00:04, 73.00it/s]"
     ]
    },
    {
     "name": "stdout",
     "output_type": "stream",
     "text": [
      "vision/frames/HEMA/frames/449.jpg\n",
      "vision/frames/HEMA/frames/450.jpg\n",
      "vision/frames/HEMA/frames/451.jpg\n",
      "vision/frames/HEMA/frames/452.jpg\n",
      "vision/frames/HEMA/frames/453.jpg\n",
      "vision/frames/HEMA/frames/454.jpg\n",
      "vision/frames/HEMA/frames/455.jpg\n",
      "vision/frames/HEMA/frames/456.jpg\n"
     ]
    },
    {
     "name": "stderr",
     "output_type": "stream",
     "text": [
      "\r",
      " 59%|██████████████████████████████████████████████▊                                 | 457/780 [00:06<00:04, 74.59it/s]"
     ]
    },
    {
     "name": "stdout",
     "output_type": "stream",
     "text": [
      "vision/frames/HEMA/frames/457.jpg\n",
      "vision/frames/HEMA/frames/458.jpg\n",
      "vision/frames/HEMA/frames/459.jpg\n",
      "vision/frames/HEMA/frames/460.jpg\n",
      "vision/frames/HEMA/frames/461.jpg\n",
      "vision/frames/HEMA/frames/462.jpg\n",
      "vision/frames/HEMA/frames/463.jpg\n",
      "vision/frames/HEMA/frames/464.jpg\n"
     ]
    },
    {
     "name": "stderr",
     "output_type": "stream",
     "text": [
      "\r",
      " 60%|███████████████████████████████████████████████▋                                | 465/780 [00:06<00:04, 72.86it/s]"
     ]
    },
    {
     "name": "stdout",
     "output_type": "stream",
     "text": [
      "vision/frames/HEMA/frames/465.jpg\n",
      "vision/frames/HEMA/frames/466.jpg\n",
      "vision/frames/HEMA/frames/467.jpg\n",
      "vision/frames/HEMA/frames/468.jpg\n",
      "vision/frames/HEMA/frames/469.jpg\n",
      "vision/frames/HEMA/frames/470.jpg\n",
      "vision/frames/HEMA/frames/471.jpg\n",
      "vision/frames/HEMA/frames/472.jpg\n"
     ]
    },
    {
     "name": "stderr",
     "output_type": "stream",
     "text": [
      "\r",
      " 61%|████████████████████████████████████████████████▌                               | 473/780 [00:06<00:04, 70.08it/s]"
     ]
    },
    {
     "name": "stdout",
     "output_type": "stream",
     "text": [
      "vision/frames/HEMA/frames/473.jpg\n",
      "vision/frames/HEMA/frames/474.jpg\n",
      "vision/frames/HEMA/frames/475.jpg\n",
      "vision/frames/HEMA/frames/476.jpg\n",
      "vision/frames/HEMA/frames/477.jpg\n",
      "vision/frames/HEMA/frames/478.jpg\n",
      "vision/frames/HEMA/frames/479.jpg\n",
      "vision/frames/HEMA/frames/480.jpg\n"
     ]
    },
    {
     "name": "stderr",
     "output_type": "stream",
     "text": [
      "\r",
      " 62%|█████████████████████████████████████████████████▎                              | 481/780 [00:07<00:04, 68.55it/s]"
     ]
    },
    {
     "name": "stdout",
     "output_type": "stream",
     "text": [
      "vision/frames/HEMA/frames/481.jpg\n",
      "vision/frames/HEMA/frames/482.jpg\n",
      "vision/frames/HEMA/frames/483.jpg\n",
      "vision/frames/HEMA/frames/484.jpg\n",
      "vision/frames/HEMA/frames/485.jpg\n",
      "vision/frames/HEMA/frames/486.jpg\n",
      "vision/frames/HEMA/frames/487.jpg\n"
     ]
    },
    {
     "name": "stderr",
     "output_type": "stream",
     "text": [
      "\r",
      " 63%|██████████████████████████████████████████████████                              | 488/780 [00:07<00:04, 66.73it/s]"
     ]
    },
    {
     "name": "stdout",
     "output_type": "stream",
     "text": [
      "vision/frames/HEMA/frames/488.jpg\n",
      "vision/frames/HEMA/frames/489.jpg\n",
      "vision/frames/HEMA/frames/490.jpg\n",
      "vision/frames/HEMA/frames/491.jpg\n",
      "vision/frames/HEMA/frames/492.jpg\n",
      "vision/frames/HEMA/frames/493.jpg\n",
      "vision/frames/HEMA/frames/494.jpg\n"
     ]
    },
    {
     "name": "stderr",
     "output_type": "stream",
     "text": [
      "\r",
      " 63%|██████████████████████████████████████████████████▊                             | 495/780 [00:07<00:04, 67.54it/s]"
     ]
    },
    {
     "name": "stdout",
     "output_type": "stream",
     "text": [
      "vision/frames/HEMA/frames/495.jpg\n",
      "vision/frames/HEMA/frames/496.jpg\n",
      "vision/frames/HEMA/frames/497.jpg\n",
      "vision/frames/HEMA/frames/498.jpg\n",
      "vision/frames/HEMA/frames/499.jpg\n",
      "vision/frames/HEMA/frames/500.jpg\n",
      "vision/frames/HEMA/frames/501.jpg\n",
      "vision/frames/HEMA/frames/502.jpg\n"
     ]
    },
    {
     "name": "stderr",
     "output_type": "stream",
     "text": [
      "\r",
      " 64%|███████████████████████████████████████████████████▌                            | 503/780 [00:07<00:03, 69.90it/s]"
     ]
    },
    {
     "name": "stdout",
     "output_type": "stream",
     "text": [
      "vision/frames/HEMA/frames/503.jpg\n",
      "vision/frames/HEMA/frames/504.jpg\n",
      "vision/frames/HEMA/frames/505.jpg\n",
      "vision/frames/HEMA/frames/506.jpg\n",
      "vision/frames/HEMA/frames/507.jpg\n",
      "vision/frames/HEMA/frames/508.jpg\n",
      "vision/frames/HEMA/frames/509.jpg\n",
      "vision/frames/HEMA/frames/510.jpg\n"
     ]
    },
    {
     "name": "stderr",
     "output_type": "stream",
     "text": [
      "\r",
      " 66%|████████████████████████████████████████████████████▍                           | 511/780 [00:07<00:03, 69.80it/s]"
     ]
    },
    {
     "name": "stdout",
     "output_type": "stream",
     "text": [
      "vision/frames/HEMA/frames/511.jpg\n",
      "vision/frames/HEMA/frames/512.jpg\n",
      "vision/frames/HEMA/frames/513.jpg\n",
      "vision/frames/HEMA/frames/514.jpg\n",
      "vision/frames/HEMA/frames/515.jpg\n",
      "vision/frames/HEMA/frames/516.jpg\n",
      "vision/frames/HEMA/frames/517.jpg\n",
      "vision/frames/HEMA/frames/518.jpg\n"
     ]
    },
    {
     "name": "stderr",
     "output_type": "stream",
     "text": [
      "\r",
      " 67%|█████████████████████████████████████████████████████▏                          | 519/780 [00:07<00:03, 71.86it/s]"
     ]
    },
    {
     "name": "stdout",
     "output_type": "stream",
     "text": [
      "vision/frames/HEMA/frames/519.jpg\n",
      "vision/frames/HEMA/frames/520.jpg\n",
      "vision/frames/HEMA/frames/521.jpg\n",
      "vision/frames/HEMA/frames/522.jpg\n",
      "vision/frames/HEMA/frames/523.jpg\n",
      "vision/frames/HEMA/frames/524.jpg\n",
      "vision/frames/HEMA/frames/525.jpg\n",
      "vision/frames/HEMA/frames/526.jpg\n"
     ]
    },
    {
     "name": "stderr",
     "output_type": "stream",
     "text": [
      "\r",
      " 68%|██████████████████████████████████████████████████████                          | 527/780 [00:07<00:03, 72.72it/s]"
     ]
    },
    {
     "name": "stdout",
     "output_type": "stream",
     "text": [
      "vision/frames/HEMA/frames/527.jpg\n",
      "vision/frames/HEMA/frames/528.jpg\n",
      "vision/frames/HEMA/frames/529.jpg\n",
      "vision/frames/HEMA/frames/530.jpg\n",
      "vision/frames/HEMA/frames/531.jpg\n",
      "vision/frames/HEMA/frames/532.jpg\n",
      "vision/frames/HEMA/frames/533.jpg\n",
      "vision/frames/HEMA/frames/534.jpg\n"
     ]
    },
    {
     "name": "stderr",
     "output_type": "stream",
     "text": [
      "\r",
      " 69%|██████████████████████████████████████████████████████▊                         | 535/780 [00:07<00:03, 71.62it/s]"
     ]
    },
    {
     "name": "stdout",
     "output_type": "stream",
     "text": [
      "vision/frames/HEMA/frames/535.jpg\n",
      "vision/frames/HEMA/frames/536.jpg\n",
      "vision/frames/HEMA/frames/537.jpg\n",
      "vision/frames/HEMA/frames/538.jpg\n",
      "vision/frames/HEMA/frames/539.jpg\n",
      "vision/frames/HEMA/frames/540.jpg\n",
      "vision/frames/HEMA/frames/541.jpg\n",
      "vision/frames/HEMA/frames/542.jpg\n"
     ]
    },
    {
     "name": "stderr",
     "output_type": "stream",
     "text": [
      "\r",
      " 70%|███████████████████████████████████████████████████████▋                        | 543/780 [00:07<00:03, 70.15it/s]"
     ]
    },
    {
     "name": "stdout",
     "output_type": "stream",
     "text": [
      "vision/frames/HEMA/frames/543.jpg\n",
      "vision/frames/HEMA/frames/544.jpg\n",
      "vision/frames/HEMA/frames/545.jpg\n",
      "vision/frames/HEMA/frames/546.jpg\n",
      "vision/frames/HEMA/frames/547.jpg\n",
      "vision/frames/HEMA/frames/548.jpg\n",
      "vision/frames/HEMA/frames/549.jpg\n",
      "vision/frames/HEMA/frames/550.jpg\n"
     ]
    },
    {
     "name": "stderr",
     "output_type": "stream",
     "text": [
      "\r",
      " 71%|████████████████████████████████████████████████████████▌                       | 551/780 [00:08<00:03, 66.47it/s]"
     ]
    },
    {
     "name": "stdout",
     "output_type": "stream",
     "text": [
      "vision/frames/HEMA/frames/551.jpg\n",
      "vision/frames/HEMA/frames/552.jpg\n",
      "vision/frames/HEMA/frames/553.jpg\n",
      "vision/frames/HEMA/frames/554.jpg\n",
      "vision/frames/HEMA/frames/555.jpg\n",
      "vision/frames/HEMA/frames/556.jpg\n",
      "vision/frames/HEMA/frames/557.jpg\n"
     ]
    },
    {
     "name": "stderr",
     "output_type": "stream",
     "text": [
      "\r",
      " 72%|█████████████████████████████████████████████████████████▏                      | 558/780 [00:08<00:03, 60.81it/s]"
     ]
    },
    {
     "name": "stdout",
     "output_type": "stream",
     "text": [
      "vision/frames/HEMA/frames/558.jpg\n",
      "vision/frames/HEMA/frames/559.jpg\n",
      "vision/frames/HEMA/frames/560.jpg\n",
      "vision/frames/HEMA/frames/561.jpg\n",
      "vision/frames/HEMA/frames/562.jpg\n",
      "vision/frames/HEMA/frames/563.jpg\n",
      "vision/frames/HEMA/frames/564.jpg\n"
     ]
    },
    {
     "name": "stderr",
     "output_type": "stream",
     "text": [
      "\r",
      " 72%|█████████████████████████████████████████████████████████▉                      | 565/780 [00:08<00:03, 60.88it/s]"
     ]
    },
    {
     "name": "stdout",
     "output_type": "stream",
     "text": [
      "vision/frames/HEMA/frames/565.jpg\n",
      "vision/frames/HEMA/frames/566.jpg\n",
      "vision/frames/HEMA/frames/567.jpg\n",
      "vision/frames/HEMA/frames/568.jpg\n",
      "vision/frames/HEMA/frames/569.jpg\n",
      "vision/frames/HEMA/frames/570.jpg\n",
      "vision/frames/HEMA/frames/571.jpg\n"
     ]
    },
    {
     "name": "stderr",
     "output_type": "stream",
     "text": [
      "\r",
      " 73%|██████████████████████████████████████████████████████████▋                     | 572/780 [00:08<00:03, 63.23it/s]"
     ]
    },
    {
     "name": "stdout",
     "output_type": "stream",
     "text": [
      "vision/frames/HEMA/frames/572.jpg\n",
      "vision/frames/HEMA/frames/573.jpg\n",
      "vision/frames/HEMA/frames/574.jpg\n",
      "vision/frames/HEMA/frames/575.jpg\n",
      "vision/frames/HEMA/frames/576.jpg\n",
      "vision/frames/HEMA/frames/577.jpg\n",
      "vision/frames/HEMA/frames/578.jpg\n",
      "vision/frames/HEMA/frames/579.jpg\n"
     ]
    },
    {
     "name": "stderr",
     "output_type": "stream",
     "text": [
      "\r",
      " 74%|███████████████████████████████████████████████████████████▍                    | 580/780 [00:08<00:03, 66.01it/s]"
     ]
    },
    {
     "name": "stdout",
     "output_type": "stream",
     "text": [
      "vision/frames/HEMA/frames/580.jpg\n",
      "vision/frames/HEMA/frames/581.jpg\n",
      "vision/frames/HEMA/frames/582.jpg\n",
      "vision/frames/HEMA/frames/583.jpg\n",
      "vision/frames/HEMA/frames/584.jpg\n",
      "vision/frames/HEMA/frames/585.jpg\n",
      "vision/frames/HEMA/frames/586.jpg\n",
      "vision/frames/HEMA/frames/587.jpg\n"
     ]
    },
    {
     "name": "stderr",
     "output_type": "stream",
     "text": [
      "\r",
      " 75%|████████████████████████████████████████████████████████████▎                   | 588/780 [00:08<00:02, 68.65it/s]"
     ]
    },
    {
     "name": "stdout",
     "output_type": "stream",
     "text": [
      "vision/frames/HEMA/frames/588.jpg\n",
      "vision/frames/HEMA/frames/589.jpg\n",
      "vision/frames/HEMA/frames/590.jpg\n",
      "vision/frames/HEMA/frames/591.jpg\n",
      "vision/frames/HEMA/frames/592.jpg\n",
      "vision/frames/HEMA/frames/593.jpg\n",
      "vision/frames/HEMA/frames/594.jpg\n"
     ]
    },
    {
     "name": "stderr",
     "output_type": "stream",
     "text": [
      "\r",
      " 76%|█████████████████████████████████████████████████████████████                   | 595/780 [00:08<00:02, 68.90it/s]"
     ]
    },
    {
     "name": "stdout",
     "output_type": "stream",
     "text": [
      "vision/frames/HEMA/frames/595.jpg\n",
      "vision/frames/HEMA/frames/596.jpg\n",
      "vision/frames/HEMA/frames/597.jpg\n",
      "vision/frames/HEMA/frames/598.jpg\n",
      "vision/frames/HEMA/frames/599.jpg\n",
      "vision/frames/HEMA/frames/600.jpg\n",
      "vision/frames/HEMA/frames/601.jpg\n",
      "vision/frames/HEMA/frames/602.jpg\n"
     ]
    },
    {
     "name": "stderr",
     "output_type": "stream",
     "text": [
      "\r",
      " 77%|█████████████████████████████████████████████████████████████▊                  | 603/780 [00:08<00:02, 71.28it/s]"
     ]
    },
    {
     "name": "stdout",
     "output_type": "stream",
     "text": [
      "vision/frames/HEMA/frames/603.jpg\n",
      "vision/frames/HEMA/frames/604.jpg\n",
      "vision/frames/HEMA/frames/605.jpg\n",
      "vision/frames/HEMA/frames/606.jpg\n",
      "vision/frames/HEMA/frames/607.jpg\n",
      "vision/frames/HEMA/frames/608.jpg\n",
      "vision/frames/HEMA/frames/609.jpg\n",
      "vision/frames/HEMA/frames/610.jpg\n"
     ]
    },
    {
     "name": "stderr",
     "output_type": "stream",
     "text": [
      "\r",
      " 78%|██████████████████████████████████████████████████████████████▋                 | 611/780 [00:08<00:02, 71.36it/s]"
     ]
    },
    {
     "name": "stdout",
     "output_type": "stream",
     "text": [
      "vision/frames/HEMA/frames/611.jpg\n",
      "vision/frames/HEMA/frames/612.jpg\n",
      "vision/frames/HEMA/frames/613.jpg\n",
      "vision/frames/HEMA/frames/614.jpg\n",
      "vision/frames/HEMA/frames/615.jpg\n",
      "vision/frames/HEMA/frames/616.jpg\n",
      "vision/frames/HEMA/frames/617.jpg\n",
      "vision/frames/HEMA/frames/618.jpg\n"
     ]
    },
    {
     "name": "stderr",
     "output_type": "stream",
     "text": [
      "\r",
      " 79%|███████████████████████████████████████████████████████████████▍                | 619/780 [00:09<00:02, 73.02it/s]"
     ]
    },
    {
     "name": "stdout",
     "output_type": "stream",
     "text": [
      "vision/frames/HEMA/frames/619.jpg\n",
      "vision/frames/HEMA/frames/620.jpg\n",
      "vision/frames/HEMA/frames/621.jpg\n",
      "vision/frames/HEMA/frames/622.jpg\n",
      "vision/frames/HEMA/frames/623.jpg\n",
      "vision/frames/HEMA/frames/624.jpg\n",
      "vision/frames/HEMA/frames/625.jpg\n",
      "vision/frames/HEMA/frames/626.jpg\n"
     ]
    },
    {
     "name": "stderr",
     "output_type": "stream",
     "text": [
      "\r",
      " 80%|████████████████████████████████████████████████████████████████▎               | 627/780 [00:09<00:02, 67.47it/s]"
     ]
    },
    {
     "name": "stdout",
     "output_type": "stream",
     "text": [
      "vision/frames/HEMA/frames/627.jpg\n",
      "vision/frames/HEMA/frames/628.jpg\n",
      "vision/frames/HEMA/frames/629.jpg\n",
      "vision/frames/HEMA/frames/630.jpg\n",
      "vision/frames/HEMA/frames/631.jpg\n",
      "vision/frames/HEMA/frames/632.jpg\n",
      "vision/frames/HEMA/frames/633.jpg\n",
      "vision/frames/HEMA/frames/634.jpg\n"
     ]
    },
    {
     "name": "stderr",
     "output_type": "stream",
     "text": [
      "\r",
      " 81%|█████████████████████████████████████████████████████████████████▏              | 635/780 [00:09<00:02, 69.02it/s]"
     ]
    },
    {
     "name": "stdout",
     "output_type": "stream",
     "text": [
      "vision/frames/HEMA/frames/635.jpg\n",
      "vision/frames/HEMA/frames/636.jpg\n",
      "vision/frames/HEMA/frames/637.jpg\n",
      "vision/frames/HEMA/frames/638.jpg\n",
      "vision/frames/HEMA/frames/639.jpg\n",
      "vision/frames/HEMA/frames/640.jpg\n",
      "vision/frames/HEMA/frames/641.jpg\n"
     ]
    },
    {
     "name": "stderr",
     "output_type": "stream",
     "text": [
      "\r",
      " 82%|█████████████████████████████████████████████████████████████████▊              | 642/780 [00:09<00:02, 66.61it/s]"
     ]
    },
    {
     "name": "stdout",
     "output_type": "stream",
     "text": [
      "vision/frames/HEMA/frames/642.jpg\n",
      "vision/frames/HEMA/frames/643.jpg\n",
      "vision/frames/HEMA/frames/644.jpg\n",
      "vision/frames/HEMA/frames/645.jpg\n",
      "vision/frames/HEMA/frames/646.jpg\n",
      "vision/frames/HEMA/frames/647.jpg\n",
      "vision/frames/HEMA/frames/648.jpg\n"
     ]
    },
    {
     "name": "stderr",
     "output_type": "stream",
     "text": [
      "\r",
      " 83%|██████████████████████████████████████████████████████████████████▌             | 649/780 [00:09<00:02, 63.82it/s]"
     ]
    },
    {
     "name": "stdout",
     "output_type": "stream",
     "text": [
      "vision/frames/HEMA/frames/649.jpg\n",
      "vision/frames/HEMA/frames/650.jpg\n",
      "vision/frames/HEMA/frames/651.jpg\n",
      "vision/frames/HEMA/frames/652.jpg\n",
      "vision/frames/HEMA/frames/653.jpg\n",
      "vision/frames/HEMA/frames/654.jpg\n",
      "vision/frames/HEMA/frames/655.jpg\n"
     ]
    },
    {
     "name": "stderr",
     "output_type": "stream",
     "text": [
      "\r",
      " 84%|███████████████████████████████████████████████████████████████████▎            | 656/780 [00:09<00:01, 62.79it/s]"
     ]
    },
    {
     "name": "stdout",
     "output_type": "stream",
     "text": [
      "vision/frames/HEMA/frames/656.jpg\n",
      "vision/frames/HEMA/frames/657.jpg\n",
      "vision/frames/HEMA/frames/658.jpg\n",
      "vision/frames/HEMA/frames/659.jpg\n",
      "vision/frames/HEMA/frames/660.jpg\n",
      "vision/frames/HEMA/frames/661.jpg\n",
      "vision/frames/HEMA/frames/662.jpg\n"
     ]
    },
    {
     "name": "stderr",
     "output_type": "stream",
     "text": [
      "\r",
      " 85%|████████████████████████████████████████████████████████████████████            | 663/780 [00:09<00:01, 61.60it/s]"
     ]
    },
    {
     "name": "stdout",
     "output_type": "stream",
     "text": [
      "vision/frames/HEMA/frames/663.jpg\n",
      "vision/frames/HEMA/frames/664.jpg\n",
      "vision/frames/HEMA/frames/665.jpg\n",
      "vision/frames/HEMA/frames/666.jpg\n",
      "vision/frames/HEMA/frames/667.jpg\n",
      "vision/frames/HEMA/frames/668.jpg\n",
      "vision/frames/HEMA/frames/669.jpg\n"
     ]
    },
    {
     "name": "stderr",
     "output_type": "stream",
     "text": [
      "\r",
      " 86%|████████████████████████████████████████████████████████████████████▋           | 670/780 [00:09<00:01, 61.91it/s]"
     ]
    },
    {
     "name": "stdout",
     "output_type": "stream",
     "text": [
      "vision/frames/HEMA/frames/670.jpg\n",
      "vision/frames/HEMA/frames/671.jpg\n",
      "vision/frames/HEMA/frames/672.jpg\n",
      "vision/frames/HEMA/frames/673.jpg\n",
      "vision/frames/HEMA/frames/674.jpg\n",
      "vision/frames/HEMA/frames/675.jpg\n",
      "vision/frames/HEMA/frames/676.jpg\n"
     ]
    },
    {
     "name": "stderr",
     "output_type": "stream",
     "text": [
      "\r",
      " 87%|█████████████████████████████████████████████████████████████████████▍          | 677/780 [00:10<00:01, 61.48it/s]"
     ]
    },
    {
     "name": "stdout",
     "output_type": "stream",
     "text": [
      "vision/frames/HEMA/frames/677.jpg\n",
      "vision/frames/HEMA/frames/678.jpg\n",
      "vision/frames/HEMA/frames/679.jpg\n",
      "vision/frames/HEMA/frames/680.jpg\n",
      "vision/frames/HEMA/frames/681.jpg\n",
      "vision/frames/HEMA/frames/682.jpg\n",
      "vision/frames/HEMA/frames/683.jpg\n"
     ]
    },
    {
     "name": "stderr",
     "output_type": "stream",
     "text": [
      "\r",
      " 88%|██████████████████████████████████████████████████████████████████████▏         | 684/780 [00:10<00:01, 60.51it/s]"
     ]
    },
    {
     "name": "stdout",
     "output_type": "stream",
     "text": [
      "vision/frames/HEMA/frames/684.jpg\n",
      "vision/frames/HEMA/frames/685.jpg\n",
      "vision/frames/HEMA/frames/686.jpg\n",
      "vision/frames/HEMA/frames/687.jpg\n",
      "vision/frames/HEMA/frames/688.jpg\n",
      "vision/frames/HEMA/frames/689.jpg\n",
      "vision/frames/HEMA/frames/690.jpg\n"
     ]
    },
    {
     "name": "stderr",
     "output_type": "stream",
     "text": [
      "\r",
      " 89%|██████████████████████████████████████████████████████████████████████▊         | 691/780 [00:10<00:01, 60.81it/s]"
     ]
    },
    {
     "name": "stdout",
     "output_type": "stream",
     "text": [
      "vision/frames/HEMA/frames/691.jpg\n",
      "vision/frames/HEMA/frames/692.jpg\n",
      "vision/frames/HEMA/frames/693.jpg\n",
      "vision/frames/HEMA/frames/694.jpg\n",
      "vision/frames/HEMA/frames/695.jpg\n",
      "vision/frames/HEMA/frames/696.jpg\n",
      "vision/frames/HEMA/frames/697.jpg\n"
     ]
    },
    {
     "name": "stderr",
     "output_type": "stream",
     "text": [
      "\r",
      " 89%|███████████████████████████████████████████████████████████████████████▌        | 698/780 [00:10<00:01, 60.71it/s]"
     ]
    },
    {
     "name": "stdout",
     "output_type": "stream",
     "text": [
      "vision/frames/HEMA/frames/698.jpg\n",
      "vision/frames/HEMA/frames/699.jpg\n",
      "vision/frames/HEMA/frames/700.jpg\n",
      "vision/frames/HEMA/frames/701.jpg\n",
      "vision/frames/HEMA/frames/702.jpg\n",
      "vision/frames/HEMA/frames/703.jpg\n",
      "vision/frames/HEMA/frames/704.jpg\n"
     ]
    },
    {
     "name": "stderr",
     "output_type": "stream",
     "text": [
      "\r",
      " 90%|████████████████████████████████████████████████████████████████████████▎       | 705/780 [00:10<00:01, 60.65it/s]"
     ]
    },
    {
     "name": "stdout",
     "output_type": "stream",
     "text": [
      "vision/frames/HEMA/frames/705.jpg\n",
      "vision/frames/HEMA/frames/706.jpg\n",
      "vision/frames/HEMA/frames/707.jpg\n",
      "vision/frames/HEMA/frames/708.jpg\n",
      "vision/frames/HEMA/frames/709.jpg\n",
      "vision/frames/HEMA/frames/710.jpg\n",
      "vision/frames/HEMA/frames/711.jpg\n"
     ]
    },
    {
     "name": "stderr",
     "output_type": "stream",
     "text": [
      "\r",
      " 91%|█████████████████████████████████████████████████████████████████████████       | 712/780 [00:10<00:01, 60.45it/s]"
     ]
    },
    {
     "name": "stdout",
     "output_type": "stream",
     "text": [
      "vision/frames/HEMA/frames/712.jpg\n",
      "vision/frames/HEMA/frames/713.jpg\n",
      "vision/frames/HEMA/frames/714.jpg\n",
      "vision/frames/HEMA/frames/715.jpg\n",
      "vision/frames/HEMA/frames/716.jpg\n",
      "vision/frames/HEMA/frames/717.jpg\n",
      "vision/frames/HEMA/frames/718.jpg\n"
     ]
    },
    {
     "name": "stderr",
     "output_type": "stream",
     "text": [
      "\r",
      " 92%|█████████████████████████████████████████████████████████████████████████▋      | 719/780 [00:10<00:01, 60.46it/s]"
     ]
    },
    {
     "name": "stdout",
     "output_type": "stream",
     "text": [
      "vision/frames/HEMA/frames/719.jpg\n",
      "vision/frames/HEMA/frames/720.jpg\n",
      "vision/frames/HEMA/frames/721.jpg\n",
      "vision/frames/HEMA/frames/722.jpg\n",
      "vision/frames/HEMA/frames/723.jpg\n",
      "vision/frames/HEMA/frames/724.jpg\n",
      "vision/frames/HEMA/frames/725.jpg\n"
     ]
    },
    {
     "name": "stderr",
     "output_type": "stream",
     "text": [
      "\r",
      " 93%|██████████████████████████████████████████████████████████████████████████▍     | 726/780 [00:10<00:00, 60.65it/s]"
     ]
    },
    {
     "name": "stdout",
     "output_type": "stream",
     "text": [
      "vision/frames/HEMA/frames/726.jpg\n",
      "vision/frames/HEMA/frames/727.jpg\n",
      "vision/frames/HEMA/frames/728.jpg\n",
      "vision/frames/HEMA/frames/729.jpg\n",
      "vision/frames/HEMA/frames/730.jpg\n",
      "vision/frames/HEMA/frames/731.jpg\n",
      "vision/frames/HEMA/frames/732.jpg\n"
     ]
    },
    {
     "name": "stderr",
     "output_type": "stream",
     "text": [
      "\r",
      " 94%|███████████████████████████████████████████████████████████████████████████▏    | 733/780 [00:10<00:00, 62.72it/s]"
     ]
    },
    {
     "name": "stdout",
     "output_type": "stream",
     "text": [
      "vision/frames/HEMA/frames/733.jpg\n",
      "vision/frames/HEMA/frames/734.jpg\n",
      "vision/frames/HEMA/frames/735.jpg\n",
      "vision/frames/HEMA/frames/736.jpg\n",
      "vision/frames/HEMA/frames/737.jpg\n",
      "vision/frames/HEMA/frames/738.jpg\n",
      "vision/frames/HEMA/frames/739.jpg\n"
     ]
    },
    {
     "name": "stderr",
     "output_type": "stream",
     "text": [
      "\r",
      " 95%|███████████████████████████████████████████████████████████████████████████▉    | 740/780 [00:11<00:00, 62.73it/s]"
     ]
    },
    {
     "name": "stdout",
     "output_type": "stream",
     "text": [
      "vision/frames/HEMA/frames/740.jpg\n",
      "vision/frames/HEMA/frames/741.jpg\n",
      "vision/frames/HEMA/frames/742.jpg\n",
      "vision/frames/HEMA/frames/743.jpg\n",
      "vision/frames/HEMA/frames/744.jpg\n",
      "vision/frames/HEMA/frames/745.jpg\n",
      "vision/frames/HEMA/frames/746.jpg\n"
     ]
    },
    {
     "name": "stderr",
     "output_type": "stream",
     "text": [
      "\r",
      " 96%|████████████████████████████████████████████████████████████████████████████▌   | 747/780 [00:11<00:00, 63.49it/s]"
     ]
    },
    {
     "name": "stdout",
     "output_type": "stream",
     "text": [
      "vision/frames/HEMA/frames/747.jpg\n",
      "vision/frames/HEMA/frames/748.jpg\n",
      "vision/frames/HEMA/frames/749.jpg\n",
      "vision/frames/HEMA/frames/750.jpg\n",
      "vision/frames/HEMA/frames/751.jpg\n",
      "vision/frames/HEMA/frames/752.jpg\n",
      "vision/frames/HEMA/frames/753.jpg\n"
     ]
    },
    {
     "name": "stderr",
     "output_type": "stream",
     "text": [
      "\r",
      " 97%|█████████████████████████████████████████████████████████████████████████████▎  | 754/780 [00:11<00:00, 60.93it/s]"
     ]
    },
    {
     "name": "stdout",
     "output_type": "stream",
     "text": [
      "vision/frames/HEMA/frames/754.jpg\n",
      "vision/frames/HEMA/frames/755.jpg\n",
      "vision/frames/HEMA/frames/756.jpg\n",
      "vision/frames/HEMA/frames/757.jpg\n",
      "vision/frames/HEMA/frames/758.jpg\n",
      "vision/frames/HEMA/frames/759.jpg\n",
      "vision/frames/HEMA/frames/760.jpg\n",
      "vision/frames/HEMA/frames/761.jpg\n"
     ]
    },
    {
     "name": "stderr",
     "output_type": "stream",
     "text": [
      "\r",
      " 98%|██████████████████████████████████████████████████████████████████████████████▏ | 762/780 [00:11<00:00, 65.33it/s]"
     ]
    },
    {
     "name": "stdout",
     "output_type": "stream",
     "text": [
      "vision/frames/HEMA/frames/762.jpg\n",
      "vision/frames/HEMA/frames/763.jpg\n",
      "vision/frames/HEMA/frames/764.jpg\n",
      "vision/frames/HEMA/frames/765.jpg\n",
      "vision/frames/HEMA/frames/766.jpg\n",
      "vision/frames/HEMA/frames/767.jpg\n",
      "vision/frames/HEMA/frames/768.jpg\n",
      "vision/frames/HEMA/frames/769.jpg\n",
      "vision/frames/HEMA/frames/770.jpg\n"
     ]
    },
    {
     "name": "stderr",
     "output_type": "stream",
     "text": [
      "\r",
      " 99%|███████████████████████████████████████████████████████████████████████████████ | 771/780 [00:11<00:00, 69.37it/s]"
     ]
    },
    {
     "name": "stdout",
     "output_type": "stream",
     "text": [
      "vision/frames/HEMA/frames/771.jpg\n",
      "vision/frames/HEMA/frames/772.jpg\n",
      "vision/frames/HEMA/frames/773.jpg\n",
      "vision/frames/HEMA/frames/774.jpg\n",
      "vision/frames/HEMA/frames/775.jpg\n",
      "vision/frames/HEMA/frames/776.jpg\n",
      "vision/frames/HEMA/frames/777.jpg\n",
      "vision/frames/HEMA/frames/778.jpg\n"
     ]
    },
    {
     "name": "stderr",
     "output_type": "stream",
     "text": [
      "\r",
      "100%|███████████████████████████████████████████████████████████████████████████████▉| 779/780 [00:11<00:00, 71.91it/s]"
     ]
    },
    {
     "name": "stdout",
     "output_type": "stream",
     "text": [
      "vision/frames/HEMA/frames/779.jpg\n"
     ]
    },
    {
     "name": "stderr",
     "output_type": "stream",
     "text": [
      "100%|████████████████████████████████████████████████████████████████████████████████| 780/780 [00:11<00:00, 67.30it/s]\n"
     ]
    }
   ],
   "source": [
    "img_array = []\n",
    "vision_path = \"vision/frames/HEMA/frames/\"\n",
    "frames = os.listdir(vision_path)\n",
    "for frame in tqdm.tqdm(range(len(frames))):\n",
    "    ID = str(frame)+\".jpg\"\n",
    "    full_vision_path = os.path.join(vision_path,ID)\n",
    "    print(full_vision_path)\n",
    "    img = cv2.imread(full_vision_path)\n",
    "    height, width, layers = img.shape\n",
    "    size = (width, height)\n",
    "    img_array.append(img)\n",
    "vid = cv2.VideoWriter(\"vision/AI_virginia.mp4\",cv2.VideoWriter_fourcc(*\"DIVX\"),29.885057471264368,size)\n",
    "for i in range(len(img_array)):\n",
    "    vid.write(img_array[i])\n",
    "vid.release()"
   ]
  }
 ],
 "metadata": {
  "kernelspec": {
   "display_name": "Python 3",
   "language": "python",
   "name": "python3"
  },
  "language_info": {
   "codemirror_mode": {
    "name": "ipython",
    "version": 3
   },
   "file_extension": ".py",
   "mimetype": "text/x-python",
   "name": "python",
   "nbconvert_exporter": "python",
   "pygments_lexer": "ipython3",
   "version": "3.6.7"
  }
 },
 "nbformat": 4,
 "nbformat_minor": 2
}
